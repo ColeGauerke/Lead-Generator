{
 "cells": [
  {
   "cell_type": "code",
   "execution_count": 3,
   "id": "21c5c490",
   "metadata": {},
   "outputs": [],
   "source": [
    "import undetected_chromedriver as uc\n",
    "from selenium.webdriver.common.by import By\n",
    "from selenium import webdriver\n",
    "from selenium.webdriver.chrome.service import Service\n",
    "from webdriver_manager.chrome import ChromeDriverManager\n",
    "from bs4 import BeautifulSoup\n",
    "import requests\n",
    "import pandas as pd"
   ]
  },
  {
   "cell_type": "code",
   "execution_count": 4,
   "id": "7d185eb3",
   "metadata": {},
   "outputs": [],
   "source": [
    "#SETTING UP SELENIUM WEBDRIVER TO BE A HEADLESS BROWSER IN ORDER TO BYPASS CAPTCHAS AND WEB-BLOCKING\n",
    "from selenium.webdriver.common.desired_capabilities import DesiredCapabilities\n",
    "\n",
    "caps = DesiredCapabilities().CHROME\n",
    "caps[\"pageLoadStrategy\"] = \"normal\"  # complete\n",
    "\n",
    "options = webdriver.ChromeOptions()\n",
    "options.add_argument(\"start-maximized\")\n",
    "options.add_argument(\"disable-infobars\")\n",
    "options.add_argument(\"--disable-extensions\")\n",
    "options.add_argument(\"--disable-gpu\")\n",
    "options.add_argument(\"--disable-dev-shm-usage\")\n",
    "options.add_argument(\"--no-sandbox\")\n",
    "options.add_argument(\"--disable-blink-features=AutomationControlled\")\n",
    "options.add_argument(\"user-agent=Mozilla/5.0 (Windows NT 10.0; Win64; x64) AppleWebKit/537.36 (KHTML, like Gecko) Chrome/91.0.4472.124 Safari/537.36\")\n"
   ]
  },
  {
   "cell_type": "code",
   "execution_count": 5,
   "id": "4d6dcdec",
   "metadata": {},
   "outputs": [],
   "source": [
    "driver = uc.Chrome(options=options)"
   ]
  },
  {
   "cell_type": "code",
   "execution_count": 6,
   "id": "6d9e7439",
   "metadata": {},
   "outputs": [],
   "source": [
    "#THESE SETTING UP URL'S AND INITIALIZING SEARCH VARIABLES\n",
    "import urllib.parse\n",
    "business_type = 'landscape'\n",
    "business_city = urllib.parse.quote('Baton Rouge')\n",
    "business_state = urllib.parse.quote('LA')"
   ]
  },
  {
   "cell_type": "code",
   "execution_count": 7,
   "id": "1df1e652",
   "metadata": {},
   "outputs": [],
   "source": [
    "####GATHERING YELLOW PAGES LEADS####"
   ]
  },
  {
   "cell_type": "code",
   "execution_count": 8,
   "id": "5968c0c8",
   "metadata": {},
   "outputs": [],
   "source": [
    "yellow_pages_url = f'https://www.yellowpages.com/search?search_terms={business_type}&geo_location_terms={business_city}%2C+{business_state}'\n",
    "yp_page = requests.get(yellow_pages_url)\n",
    "yp_soup = BeautifulSoup(yp_page.text,'html')"
   ]
  },
  {
   "cell_type": "code",
   "execution_count": 9,
   "id": "e870d787",
   "metadata": {},
   "outputs": [],
   "source": [
    "companies = yp_soup.find_all(class_='result')\n",
    "#print(companies)"
   ]
  },
  {
   "cell_type": "code",
   "execution_count": 10,
   "id": "4bd2c41f",
   "metadata": {},
   "outputs": [],
   "source": [
    "yp_business_names = []\n",
    "yp_phones = []\n",
    "yp_address_list = []"
   ]
  },
  {
   "cell_type": "code",
   "execution_count": 11,
   "id": "7c287cd5",
   "metadata": {},
   "outputs": [],
   "source": [
    "for company in yp_soup.find_all('div',class_='result'):\n",
    "    name = company.find('a',class_='business-name')\n",
    "    b_name = name.text.strip() if name else 'None'\n",
    "    #print(b_name)\n",
    "    phone = company.find('div',class_='phones phone primary')\n",
    "    phone_num = phone.text.strip() if phone else 'None'\n",
    "    #print(phone_num)\n",
    "    address = company.find('div',class_='street-address')\n",
    "    street_address = address.text.strip() if address else 'None'\n",
    "    #print(street_address)\n",
    "    yp_business_names.append(b_name)\n",
    "    yp_phones.append(phone_num)\n",
    "    yp_address_list.append(street_address)"
   ]
  },
  {
   "cell_type": "code",
   "execution_count": 12,
   "id": "7f8fbc44",
   "metadata": {
    "scrolled": true
   },
   "outputs": [
    {
     "name": "stderr",
     "output_type": "stream",
     "text": [
      "/var/folders/zw/m6lz6_8d3jl6q1hv5qg_dm040000gn/T/ipykernel_46486/2299381379.py:7: FutureWarning: this method is deprecated in favour of `Styler.hide(axis=\"index\")`\n",
      "  display(df.style.hide_index())\n"
     ]
    },
    {
     "data": {
      "text/html": [
       "<style type=\"text/css\">\n",
       "</style>\n",
       "<table id=\"T_bb0fd\">\n",
       "  <thead>\n",
       "    <tr>\n",
       "      <th id=\"T_bb0fd_level0_col0\" class=\"col_heading level0 col0\" >Company Name</th>\n",
       "      <th id=\"T_bb0fd_level0_col1\" class=\"col_heading level0 col1\" >Phone Number</th>\n",
       "      <th id=\"T_bb0fd_level0_col2\" class=\"col_heading level0 col2\" >Address</th>\n",
       "    </tr>\n",
       "  </thead>\n",
       "  <tbody>\n",
       "    <tr>\n",
       "      <td id=\"T_bb0fd_row0_col0\" class=\"data row0 col0\" >A Green Affair</td>\n",
       "      <td id=\"T_bb0fd_row0_col1\" class=\"data row0 col1\" >(225) 773-3152</td>\n",
       "      <td id=\"T_bb0fd_row0_col2\" class=\"data row0 col2\" >None</td>\n",
       "    </tr>\n",
       "    <tr>\n",
       "      <td id=\"T_bb0fd_row1_col0\" class=\"data row1 col0\" >ADAMS HANDYMAN SERVICES</td>\n",
       "      <td id=\"T_bb0fd_row1_col1\" class=\"data row1 col1\" >(888) 316-5235</td>\n",
       "      <td id=\"T_bb0fd_row1_col2\" class=\"data row1 col2\" >PO Box,</td>\n",
       "    </tr>\n",
       "    <tr>\n",
       "      <td id=\"T_bb0fd_row2_col0\" class=\"data row2 col0\" >Ascension Tree And Stump LLC</td>\n",
       "      <td id=\"T_bb0fd_row2_col1\" class=\"data row2 col1\" >(888) 679-1615</td>\n",
       "      <td id=\"T_bb0fd_row2_col2\" class=\"data row2 col2\" >None</td>\n",
       "    </tr>\n",
       "    <tr>\n",
       "      <td id=\"T_bb0fd_row3_col0\" class=\"data row3 col0\" >Baton Rouge Horticultural Service</td>\n",
       "      <td id=\"T_bb0fd_row3_col1\" class=\"data row3 col1\" >(225) 924-5884</td>\n",
       "      <td id=\"T_bb0fd_row3_col2\" class=\"data row3 col2\" >2222 Bardwell Dr</td>\n",
       "    </tr>\n",
       "    <tr>\n",
       "      <td id=\"T_bb0fd_row4_col0\" class=\"data row4 col0\" >Blue Skies Landscape LLC</td>\n",
       "      <td id=\"T_bb0fd_row4_col1\" class=\"data row4 col1\" >(225) 772-4183</td>\n",
       "      <td id=\"T_bb0fd_row4_col2\" class=\"data row4 col2\" >None</td>\n",
       "    </tr>\n",
       "    <tr>\n",
       "      <td id=\"T_bb0fd_row5_col0\" class=\"data row5 col0\" >Bonfiglio Lawn & Landscape</td>\n",
       "      <td id=\"T_bb0fd_row5_col1\" class=\"data row5 col1\" >(225) 447-8880</td>\n",
       "      <td id=\"T_bb0fd_row5_col2\" class=\"data row5 col2\" >7195 Scobell Dr</td>\n",
       "    </tr>\n",
       "    <tr>\n",
       "      <td id=\"T_bb0fd_row6_col0\" class=\"data row6 col0\" >C & M Outdoor Power Equipment</td>\n",
       "      <td id=\"T_bb0fd_row6_col1\" class=\"data row6 col1\" >(225) 271-5352</td>\n",
       "      <td id=\"T_bb0fd_row6_col2\" class=\"data row6 col2\" >8472 Florida Blvd</td>\n",
       "    </tr>\n",
       "    <tr>\n",
       "      <td id=\"T_bb0fd_row7_col0\" class=\"data row7 col0\" >Chop Chop Landscaping in Baton Rouge</td>\n",
       "      <td id=\"T_bb0fd_row7_col1\" class=\"data row7 col1\" >(225) 240-8586</td>\n",
       "      <td id=\"T_bb0fd_row7_col2\" class=\"data row7 col2\" >301 Main St</td>\n",
       "    </tr>\n",
       "    <tr>\n",
       "      <td id=\"T_bb0fd_row8_col0\" class=\"data row8 col0\" >Evergreen landscape</td>\n",
       "      <td id=\"T_bb0fd_row8_col1\" class=\"data row8 col1\" >(225) 803-5979</td>\n",
       "      <td id=\"T_bb0fd_row8_col2\" class=\"data row8 col2\" >11675 E Black Oak Dr</td>\n",
       "    </tr>\n",
       "    <tr>\n",
       "      <td id=\"T_bb0fd_row9_col0\" class=\"data row9 col0\" >HD Lawn and Landscape, LLC</td>\n",
       "      <td id=\"T_bb0fd_row9_col1\" class=\"data row9 col1\" >(225) 402-7978</td>\n",
       "      <td id=\"T_bb0fd_row9_col2\" class=\"data row9 col2\" >13931 Rampart Ct</td>\n",
       "    </tr>\n",
       "    <tr>\n",
       "      <td id=\"T_bb0fd_row10_col0\" class=\"data row10 col0\" >Harb's Oasis</td>\n",
       "      <td id=\"T_bb0fd_row10_col1\" class=\"data row10 col1\" >(225) 756-2720</td>\n",
       "      <td id=\"T_bb0fd_row10_col2\" class=\"data row10 col2\" >13827 Coursey Blvd</td>\n",
       "    </tr>\n",
       "    <tr>\n",
       "      <td id=\"T_bb0fd_row11_col0\" class=\"data row11 col0\" >Hernandez Lawnscape</td>\n",
       "      <td id=\"T_bb0fd_row11_col1\" class=\"data row11 col1\" >(225) 347-9540</td>\n",
       "      <td id=\"T_bb0fd_row11_col2\" class=\"data row11 col2\" >16148 Confederate Ave</td>\n",
       "    </tr>\n",
       "    <tr>\n",
       "      <td id=\"T_bb0fd_row12_col0\" class=\"data row12 col0\" >Landscape Baton Rouge LLC</td>\n",
       "      <td id=\"T_bb0fd_row12_col1\" class=\"data row12 col1\" >(225) 663-4910</td>\n",
       "      <td id=\"T_bb0fd_row12_col2\" class=\"data row12 col2\" >8748 Quarters Lake Rd</td>\n",
       "    </tr>\n",
       "    <tr>\n",
       "      <td id=\"T_bb0fd_row13_col0\" class=\"data row13 col0\" >Landscaping Baton Rouge</td>\n",
       "      <td id=\"T_bb0fd_row13_col1\" class=\"data row13 col1\" >(225) 242-9937</td>\n",
       "      <td id=\"T_bb0fd_row13_col2\" class=\"data row13 col2\" >8335 Summa Ave Apt 1</td>\n",
       "    </tr>\n",
       "    <tr>\n",
       "      <td id=\"T_bb0fd_row14_col0\" class=\"data row14 col0\" >Lavergne Lawn Service</td>\n",
       "      <td id=\"T_bb0fd_row14_col1\" class=\"data row14 col1\" >(225) 397-7256</td>\n",
       "      <td id=\"T_bb0fd_row14_col2\" class=\"data row14 col2\" >9933 avenue b apt b</td>\n",
       "    </tr>\n",
       "    <tr>\n",
       "      <td id=\"T_bb0fd_row15_col0\" class=\"data row15 col0\" >Leeson Landscape Care</td>\n",
       "      <td id=\"T_bb0fd_row15_col1\" class=\"data row15 col1\" >(225) 465-1600</td>\n",
       "      <td id=\"T_bb0fd_row15_col2\" class=\"data row15 col2\" >4228 Rhoda Dr</td>\n",
       "    </tr>\n",
       "    <tr>\n",
       "      <td id=\"T_bb0fd_row16_col0\" class=\"data row16 col0\" >Louisiana Lawniappe LLC</td>\n",
       "      <td id=\"T_bb0fd_row16_col1\" class=\"data row16 col1\" >(225) 234-0992</td>\n",
       "      <td id=\"T_bb0fd_row16_col2\" class=\"data row16 col2\" >None</td>\n",
       "    </tr>\n",
       "    <tr>\n",
       "      <td id=\"T_bb0fd_row17_col0\" class=\"data row17 col0\" >Newton Landscape Group</td>\n",
       "      <td id=\"T_bb0fd_row17_col1\" class=\"data row17 col1\" >(225) 756-4321</td>\n",
       "      <td id=\"T_bb0fd_row17_col2\" class=\"data row17 col2\" >8930 Buzbee Dr</td>\n",
       "    </tr>\n",
       "    <tr>\n",
       "      <td id=\"T_bb0fd_row18_col0\" class=\"data row18 col0\" >Pennington Lawn & Landscape</td>\n",
       "      <td id=\"T_bb0fd_row18_col1\" class=\"data row18 col1\" >(225) 761-0008</td>\n",
       "      <td id=\"T_bb0fd_row18_col2\" class=\"data row18 col2\" >233 Rodney Dr</td>\n",
       "    </tr>\n",
       "    <tr>\n",
       "      <td id=\"T_bb0fd_row19_col0\" class=\"data row19 col0\" >Persac Lawn & Landscape</td>\n",
       "      <td id=\"T_bb0fd_row19_col1\" class=\"data row19 col1\" >(985) 630-3012</td>\n",
       "      <td id=\"T_bb0fd_row19_col2\" class=\"data row19 col2\" >1526 Saint Alban's Drive</td>\n",
       "    </tr>\n",
       "    <tr>\n",
       "      <td id=\"T_bb0fd_row20_col0\" class=\"data row20 col0\" >Persac Lawn & Landscape, LLC</td>\n",
       "      <td id=\"T_bb0fd_row20_col1\" class=\"data row20 col1\" >(225) 610-7336</td>\n",
       "      <td id=\"T_bb0fd_row20_col2\" class=\"data row20 col2\" >Po Box 84024</td>\n",
       "    </tr>\n",
       "    <tr>\n",
       "      <td id=\"T_bb0fd_row21_col0\" class=\"data row21 col0\" >Philip Moser Associates</td>\n",
       "      <td id=\"T_bb0fd_row21_col1\" class=\"data row21 col1\" >(225) 234-0421</td>\n",
       "      <td id=\"T_bb0fd_row21_col2\" class=\"data row21 col2\" >15256 S Harrells Ferry Rd</td>\n",
       "    </tr>\n",
       "    <tr>\n",
       "      <td id=\"T_bb0fd_row22_col0\" class=\"data row22 col0\" >ProGreen Lawn & Landscape, LLC</td>\n",
       "      <td id=\"T_bb0fd_row22_col1\" class=\"data row22 col1\" >(225) 223-9077</td>\n",
       "      <td id=\"T_bb0fd_row22_col2\" class=\"data row22 col2\" >4250 Bea Dr</td>\n",
       "    </tr>\n",
       "    <tr>\n",
       "      <td id=\"T_bb0fd_row23_col0\" class=\"data row23 col0\" >RS Outdoors LLC</td>\n",
       "      <td id=\"T_bb0fd_row23_col1\" class=\"data row23 col1\" >(225) 275-4500</td>\n",
       "      <td id=\"T_bb0fd_row23_col2\" class=\"data row23 col2\" >2202 Hunters Trail Dr</td>\n",
       "    </tr>\n",
       "    <tr>\n",
       "      <td id=\"T_bb0fd_row24_col0\" class=\"data row24 col0\" >River City Landscaping</td>\n",
       "      <td id=\"T_bb0fd_row24_col1\" class=\"data row24 col1\" >(225) 364-2024</td>\n",
       "      <td id=\"T_bb0fd_row24_col2\" class=\"data row24 col2\" >7987 Pecue Ln Ste 9</td>\n",
       "    </tr>\n",
       "    <tr>\n",
       "      <td id=\"T_bb0fd_row25_col0\" class=\"data row25 col0\" >Smith & Baker Landscapes</td>\n",
       "      <td id=\"T_bb0fd_row25_col1\" class=\"data row25 col1\" >(225) 202-8875</td>\n",
       "      <td id=\"T_bb0fd_row25_col2\" class=\"data row25 col2\" >7435 Town South Ave</td>\n",
       "    </tr>\n",
       "    <tr>\n",
       "      <td id=\"T_bb0fd_row26_col0\" class=\"data row26 col0\" >Steve  Robins Tree Service</td>\n",
       "      <td id=\"T_bb0fd_row26_col1\" class=\"data row26 col1\" >(225) 925-0610</td>\n",
       "      <td id=\"T_bb0fd_row26_col2\" class=\"data row26 col2\" >9663 Great Smokey Ave</td>\n",
       "    </tr>\n",
       "    <tr>\n",
       "      <td id=\"T_bb0fd_row27_col0\" class=\"data row27 col0\" >T-N-T Pool Company</td>\n",
       "      <td id=\"T_bb0fd_row27_col1\" class=\"data row27 col1\" >(225) 665-0226</td>\n",
       "      <td id=\"T_bb0fd_row27_col2\" class=\"data row27 col2\" >9104 Arnold Rd</td>\n",
       "    </tr>\n",
       "    <tr>\n",
       "      <td id=\"T_bb0fd_row28_col0\" class=\"data row28 col0\" >Treppendahl Landscape</td>\n",
       "      <td id=\"T_bb0fd_row28_col1\" class=\"data row28 col1\" >(225) 681-9621</td>\n",
       "      <td id=\"T_bb0fd_row28_col2\" class=\"data row28 col2\" >5940 Perkins Rd Ste B</td>\n",
       "    </tr>\n",
       "    <tr>\n",
       "      <td id=\"T_bb0fd_row29_col0\" class=\"data row29 col0\" >Turner  Industries Group</td>\n",
       "      <td id=\"T_bb0fd_row29_col1\" class=\"data row29 col1\" >(225) 224-7005</td>\n",
       "      <td id=\"T_bb0fd_row29_col2\" class=\"data row29 col2\" >8687 United Plaza Blvd</td>\n",
       "    </tr>\n",
       "  </tbody>\n",
       "</table>\n"
      ],
      "text/plain": [
       "<pandas.io.formats.style.Styler at 0x12ed93110>"
      ]
     },
     "metadata": {},
     "output_type": "display_data"
    }
   ],
   "source": [
    "df = pd.DataFrame({\n",
    "    'Company Name': yp_business_names,\n",
    "    'Phone Number': yp_phones,\n",
    "    'Address': yp_address_list,\n",
    "})\n",
    "df = df.sort_values(by='Company Name')\n",
    "display(df.style.hide_index())"
   ]
  },
  {
   "cell_type": "code",
   "execution_count": 13,
   "id": "fa35b218",
   "metadata": {},
   "outputs": [],
   "source": [
    "####GATHER YELP LEADS####"
   ]
  },
  {
   "cell_type": "code",
   "execution_count": 14,
   "id": "152fc567",
   "metadata": {},
   "outputs": [
    {
     "name": "stdout",
     "output_type": "stream",
     "text": [
      "<html><head><title>yelp.com</title><style>#cmsg{animation: A 1.5s;}@keyframes A{0%{opacity:0;}99%{opacity:0;}100%{opacity:1;}}</style></head><body style=\"margin:0\"><p id=\"cmsg\">Please enable JS and disable any ad blocker</p><script data-cfasync=\"false\">var dd={'rt':'c','cid':'AHrlqAAAAAMARNWXMbmacdAAYV46HA==','hsh':'3BD2468BAE4D73BEA0B5DE8314D745','t':'bv','s':46977,'e':'8456f6f8abb821760db20f4e81a8b8a24e38c3cc766f7d727944012d6a6c75fc','host':'geo.captcha-delivery.com'}</script><script data-cfasync=\"false\" src=\"https://ct.captcha-delivery.com/c.js\"></script></body></html>\n"
     ]
    }
   ],
   "source": [
    "yelp_url = f'https://www.yelp.com/search?find_desc={business_type}&find_loc={business_city},{business_state}'\n",
    "yelp_page = requests.get(yelp_url)\n",
    "yelp_soup = BeautifulSoup(yelp_page.text,'html')\n",
    "print(yelp_soup)"
   ]
  },
  {
   "cell_type": "code",
   "execution_count": null,
   "id": "130ecace",
   "metadata": {},
   "outputs": [],
   "source": []
  },
  {
   "cell_type": "code",
   "execution_count": null,
   "id": "3f17377b",
   "metadata": {},
   "outputs": [],
   "source": []
  },
  {
   "cell_type": "code",
   "execution_count": null,
   "id": "ec4c8309",
   "metadata": {},
   "outputs": [],
   "source": []
  },
  {
   "cell_type": "code",
   "execution_count": null,
   "id": "5f13ca69",
   "metadata": {},
   "outputs": [],
   "source": []
  },
  {
   "cell_type": "code",
   "execution_count": null,
   "id": "3d6283e0",
   "metadata": {},
   "outputs": [],
   "source": []
  },
  {
   "cell_type": "code",
   "execution_count": null,
   "id": "3e4a6142",
   "metadata": {},
   "outputs": [],
   "source": []
  }
 ],
 "metadata": {
  "kernelspec": {
   "display_name": "Python 3 (ipykernel)",
   "language": "python",
   "name": "python3"
  },
  "language_info": {
   "codemirror_mode": {
    "name": "ipython",
    "version": 3
   },
   "file_extension": ".py",
   "mimetype": "text/x-python",
   "name": "python",
   "nbconvert_exporter": "python",
   "pygments_lexer": "ipython3",
   "version": "3.11.4"
  }
 },
 "nbformat": 4,
 "nbformat_minor": 5
}
